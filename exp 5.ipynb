{
 "cells": [
  {
   "cell_type": "code",
   "execution_count": 1,
   "id": "6f3bf216",
   "metadata": {},
   "outputs": [],
   "source": [
    "import numpy as np\n",
    "import matplotlib.pyplot as plt\n",
    "import pandas as pd\n",
    "from sklearn.preprocessing import MinMaxScaler\n",
    "from keras import layers\n",
    "from keras.models import Sequential"
   ]
  },
  {
   "cell_type": "code",
   "execution_count": 5,
   "id": "7ae1f78f",
   "metadata": {},
   "outputs": [
    {
     "data": {
      "text/plain": [
       "Index(['Date', 'Open', 'High', 'Low', 'Close', 'Adj Close', 'Volume'], dtype='object')"
      ]
     },
     "execution_count": 5,
     "metadata": {},
     "output_type": "execute_result"
    }
   ],
   "source": [
    "dataset_train = pd.read_csv('trainset.csv')\n",
    "dataset_train.columns"
   ]
  },
  {
   "cell_type": "code",
   "execution_count": 6,
   "id": "ee698d42",
   "metadata": {},
   "outputs": [
    {
     "data": {
      "text/html": [
       "<div>\n",
       "<style scoped>\n",
       "    .dataframe tbody tr th:only-of-type {\n",
       "        vertical-align: middle;\n",
       "    }\n",
       "\n",
       "    .dataframe tbody tr th {\n",
       "        vertical-align: top;\n",
       "    }\n",
       "\n",
       "    .dataframe thead th {\n",
       "        text-align: right;\n",
       "    }\n",
       "</style>\n",
       "<table border=\"1\" class=\"dataframe\">\n",
       "  <thead>\n",
       "    <tr style=\"text-align: right;\">\n",
       "      <th></th>\n",
       "      <th>Date</th>\n",
       "      <th>Open</th>\n",
       "      <th>High</th>\n",
       "      <th>Low</th>\n",
       "      <th>Close</th>\n",
       "      <th>Adj Close</th>\n",
       "      <th>Volume</th>\n",
       "    </tr>\n",
       "  </thead>\n",
       "  <tbody>\n",
       "    <tr>\n",
       "      <th>0</th>\n",
       "      <td>2013-01-02</td>\n",
       "      <td>357.385559</td>\n",
       "      <td>361.151062</td>\n",
       "      <td>355.959839</td>\n",
       "      <td>359.288177</td>\n",
       "      <td>359.288177</td>\n",
       "      <td>5115500</td>\n",
       "    </tr>\n",
       "    <tr>\n",
       "      <th>1</th>\n",
       "      <td>2013-01-03</td>\n",
       "      <td>360.122742</td>\n",
       "      <td>363.600128</td>\n",
       "      <td>358.031342</td>\n",
       "      <td>359.496826</td>\n",
       "      <td>359.496826</td>\n",
       "      <td>4666500</td>\n",
       "    </tr>\n",
       "    <tr>\n",
       "      <th>2</th>\n",
       "      <td>2013-01-04</td>\n",
       "      <td>362.313507</td>\n",
       "      <td>368.339294</td>\n",
       "      <td>361.488861</td>\n",
       "      <td>366.600616</td>\n",
       "      <td>366.600616</td>\n",
       "      <td>5562800</td>\n",
       "    </tr>\n",
       "    <tr>\n",
       "      <th>3</th>\n",
       "      <td>2013-01-07</td>\n",
       "      <td>365.348755</td>\n",
       "      <td>367.301056</td>\n",
       "      <td>362.929504</td>\n",
       "      <td>365.001007</td>\n",
       "      <td>365.001007</td>\n",
       "      <td>3332900</td>\n",
       "    </tr>\n",
       "    <tr>\n",
       "      <th>4</th>\n",
       "      <td>2013-01-08</td>\n",
       "      <td>365.393463</td>\n",
       "      <td>365.771027</td>\n",
       "      <td>359.874359</td>\n",
       "      <td>364.280701</td>\n",
       "      <td>364.280701</td>\n",
       "      <td>3373900</td>\n",
       "    </tr>\n",
       "  </tbody>\n",
       "</table>\n",
       "</div>"
      ],
      "text/plain": [
       "         Date        Open        High         Low       Close   Adj Close  \\\n",
       "0  2013-01-02  357.385559  361.151062  355.959839  359.288177  359.288177   \n",
       "1  2013-01-03  360.122742  363.600128  358.031342  359.496826  359.496826   \n",
       "2  2013-01-04  362.313507  368.339294  361.488861  366.600616  366.600616   \n",
       "3  2013-01-07  365.348755  367.301056  362.929504  365.001007  365.001007   \n",
       "4  2013-01-08  365.393463  365.771027  359.874359  364.280701  364.280701   \n",
       "\n",
       "    Volume  \n",
       "0  5115500  \n",
       "1  4666500  \n",
       "2  5562800  \n",
       "3  3332900  \n",
       "4  3373900  "
      ]
     },
     "execution_count": 6,
     "metadata": {},
     "output_type": "execute_result"
    }
   ],
   "source": [
    "dataset_train.head()"
   ]
  },
  {
   "cell_type": "code",
   "execution_count": 7,
   "id": "4c561fe6",
   "metadata": {},
   "outputs": [
    {
     "name": "stdout",
     "output_type": "stream",
     "text": [
      "<class 'numpy.ndarray'>\n"
     ]
    }
   ],
   "source": [
    "train_set = dataset_train.iloc[:,1:2].values\n",
    "print(type(train_set))"
   ]
  },
  {
   "cell_type": "code",
   "execution_count": 8,
   "id": "70f0430d",
   "metadata": {},
   "outputs": [
    {
     "data": {
      "text/plain": [
       "(1259, 1)"
      ]
     },
     "execution_count": 8,
     "metadata": {},
     "output_type": "execute_result"
    }
   ],
   "source": [
    "train_set.shape"
   ]
  },
  {
   "cell_type": "code",
   "execution_count": 9,
   "id": "49d45281",
   "metadata": {},
   "outputs": [
    {
     "data": {
      "text/plain": [
       "(1259, 1)"
      ]
     },
     "execution_count": 9,
     "metadata": {},
     "output_type": "execute_result"
    }
   ],
   "source": [
    "sc = MinMaxScaler(feature_range=(0,1))\n",
    "training_set_scaled = sc.fit_transform(train_set)\n",
    "training_set_scaled.shape"
   ]
  },
  {
   "cell_type": "code",
   "execution_count": 10,
   "id": "da202874",
   "metadata": {},
   "outputs": [],
   "source": [
    "X_train_array = []\n",
    "y_train_array = []\n",
    "for i in range(60, 1259):\n",
    "    X_train_array.append(training_set_scaled[i-60:i,0])\n",
    "    y_train_array.append(training_set_scaled[i,0])\n",
    "X_train, y_train = np.array(X_train_array), np.array(y_train_array)\n",
    "X_train1 = X_train.reshape((X_train.shape[0], X_train.shape[1],1))"
   ]
  },
  {
   "cell_type": "code",
   "execution_count": 11,
   "id": "dab8b6e8",
   "metadata": {},
   "outputs": [
    {
     "data": {
      "text/plain": [
       "(1199, 60)"
      ]
     },
     "execution_count": 11,
     "metadata": {},
     "output_type": "execute_result"
    }
   ],
   "source": [
    "X_train.shape"
   ]
  },
  {
   "cell_type": "code",
   "execution_count": 12,
   "id": "6b71cc64",
   "metadata": {},
   "outputs": [],
   "source": [
    "length = 60\n",
    "n_features = 1"
   ]
  },
  {
   "cell_type": "code",
   "execution_count": 46,
   "id": "6745cd0f",
   "metadata": {},
   "outputs": [
    {
     "name": "stdout",
     "output_type": "stream",
     "text": [
      "Model: \"sequential_5\"\n",
      "_________________________________________________________________\n",
      " Layer (type)                Output Shape              Param #   \n",
      "=================================================================\n",
      " simple_rnn_5 (SimpleRNN)    (None, 42)                1848      \n",
      "                                                                 \n",
      " dense_5 (Dense)             (None, 1)                 43        \n",
      "                                                                 \n",
      "=================================================================\n",
      "Total params: 1891 (7.39 KB)\n",
      "Trainable params: 1891 (7.39 KB)\n",
      "Non-trainable params: 0 (0.00 Byte)\n",
      "_________________________________________________________________\n",
      "Epoch 1/20\n",
      "38/38 [==============================] - 1s 7ms/step - loss: 0.0329\n",
      "Epoch 2/20\n",
      "38/38 [==============================] - 0s 6ms/step - loss: 0.0017\n",
      "Epoch 3/20\n",
      "38/38 [==============================] - 0s 6ms/step - loss: 0.0014\n",
      "Epoch 4/20\n",
      "38/38 [==============================] - 0s 8ms/step - loss: 0.0011\n",
      "Epoch 5/20\n",
      "38/38 [==============================] - 0s 6ms/step - loss: 0.0011\n",
      "Epoch 6/20\n",
      "38/38 [==============================] - 0s 7ms/step - loss: 9.8123e-04\n",
      "Epoch 7/20\n",
      "38/38 [==============================] - 0s 6ms/step - loss: 9.6945e-04\n",
      "Epoch 8/20\n",
      "38/38 [==============================] - 0s 7ms/step - loss: 8.6716e-04\n",
      "Epoch 9/20\n",
      "38/38 [==============================] - 0s 8ms/step - loss: 8.6522e-04\n",
      "Epoch 10/20\n",
      "38/38 [==============================] - 0s 6ms/step - loss: 7.6156e-04\n",
      "Epoch 11/20\n",
      "38/38 [==============================] - 0s 6ms/step - loss: 7.3045e-04\n",
      "Epoch 12/20\n",
      "38/38 [==============================] - 0s 6ms/step - loss: 7.0654e-04\n",
      "Epoch 13/20\n",
      "38/38 [==============================] - 0s 6ms/step - loss: 7.1082e-04\n",
      "Epoch 14/20\n",
      "38/38 [==============================] - 0s 6ms/step - loss: 6.7280e-04\n",
      "Epoch 15/20\n",
      "38/38 [==============================] - 0s 8ms/step - loss: 8.4029e-04\n",
      "Epoch 16/20\n",
      "38/38 [==============================] - 0s 5ms/step - loss: 8.4363e-04\n",
      "Epoch 17/20\n",
      "38/38 [==============================] - 0s 6ms/step - loss: 6.7461e-04\n",
      "Epoch 18/20\n",
      "38/38 [==============================] - 0s 6ms/step - loss: 5.8219e-04\n",
      "Epoch 19/20\n",
      "38/38 [==============================] - 0s 6ms/step - loss: 6.4764e-04\n",
      "Epoch 20/20\n",
      "38/38 [==============================] - 0s 6ms/step - loss: 7.0092e-04\n"
     ]
    },
    {
     "data": {
      "text/plain": [
       "<keras.src.callbacks.History at 0x1dcacbfb6d0>"
      ]
     },
     "execution_count": 46,
     "metadata": {},
     "output_type": "execute_result"
    }
   ],
   "source": [
    "model = Sequential([layers.SimpleRNN(42,input_shape=(60,1)),\n",
    "                    layers.Dense(1)])\n",
    "\n",
    "model.compile(optimizer='adam',loss='mse')\n",
    "model.summary()\n",
    "\n",
    "model.fit(X_train1,y_train,epochs=20, batch_size=32)"
   ]
  },
  {
   "cell_type": "code",
   "execution_count": 47,
   "id": "deb705bf",
   "metadata": {},
   "outputs": [
    {
     "data": {
      "text/plain": [
       "(125, 1)"
      ]
     },
     "execution_count": 47,
     "metadata": {},
     "output_type": "execute_result"
    }
   ],
   "source": [
    "dataset_test = pd.read_csv('testset.csv')\n",
    "test_set = dataset_test.iloc[:,1:2].values\n",
    "test_set.shape"
   ]
  },
  {
   "cell_type": "code",
   "execution_count": 48,
   "id": "5b7ecde0",
   "metadata": {},
   "outputs": [
    {
     "data": {
      "text/plain": [
       "(1324, 60, 1)"
      ]
     },
     "execution_count": 48,
     "metadata": {},
     "output_type": "execute_result"
    }
   ],
   "source": [
    "dataset_total = pd.concat((dataset_train['Open'],dataset_test['Open']),axis=0)\n",
    "inputs = dataset_total.values\n",
    "inputs = inputs.reshape(-1,1)\n",
    "inputs_scaled=sc.transform(inputs)\n",
    "X_test = []\n",
    "y_test = []\n",
    "for i in range(60,1384):\n",
    "    X_test.append(inputs_scaled[i-60:i,0])\n",
    "    y_test.append(inputs_scaled[i,0])\n",
    "X_test = np.array(X_test)\n",
    "X_test = np.reshape(X_test,(X_test.shape[0], X_test.shape[1],1))\n",
    "\n",
    "X_test.shape"
   ]
  },
  {
   "cell_type": "code",
   "execution_count": 49,
   "id": "7959223d",
   "metadata": {},
   "outputs": [
    {
     "name": "stdout",
     "output_type": "stream",
     "text": [
      "42/42 [==============================] - 0s 3ms/step\n"
     ]
    },
    {
     "data": {
      "image/png": "[encoded data removed]",
      "text/plain": [
       "<Figure size 640x480 with 1 Axes>"
      ]
     },
     "metadata": {},
     "output_type": "display_data"
    }
   ],
   "source": [
    "predicted_stock_price_scaled = model.predict(X_test)\n",
    "predicted_stock_price = sc.inverse_transform(predicted_stock_price_scaled)\n",
    "\n",
    "plt.plot(np.arange(0,1384),inputs, color='purple', label = 'Test data')\n",
    "plt.plot(np.arange(60,1384),predicted_stock_price, color='skyblue', label = 'Predicted stock price')\n",
    "plt.title('Stock Price Prediction')\n",
    "plt.xlabel('Time')\n",
    "plt.ylabel('Stock Price')\n",
    "plt.legend()\n",
    "plt.show()"
   ]
  },
  {
   "cell_type": "code",
   "execution_count": 50,
   "id": "ab954318",
   "metadata": {},
   "outputs": [
    {
     "data": {
      "text/plain": [
       "523426.3317323368"
      ]
     },
     "execution_count": 50,
     "metadata": {},
     "output_type": "execute_result"
    }
   ],
   "source": [
    "from sklearn.metrics import mean_squared_error as mse\n",
    "mse(y_test,predicted_stock_price)"
   ]
  },
  {
   "cell_type": "code",
   "execution_count": null,
   "id": "7dfc4675",
   "metadata": {},
   "outputs": [],
   "source": []
  }
 ],
 "metadata": {
  "kernelspec": {
   "display_name": "Python 3 (ipykernel)",
   "language": "python",
   "name": "python3"
  },
  "language_info": {
   "codemirror_mode": {
    "name": "ipython",
    "version": 3
   },
   "file_extension": ".py",
   "mimetype": "text/x-python",
   "name": "python",
   "nbconvert_exporter": "python",
   "pygments_lexer": "ipython3",
   "version": "3.9.13"
  }
 },
 "nbformat": 4,
 "nbformat_minor": 5
}
